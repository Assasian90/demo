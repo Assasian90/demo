{
 "cells": [
  {
   "cell_type": "code",
   "execution_count": 1,
   "id": "30a12bec",
   "metadata": {
    "_cell_guid": "b1076dfc-b9ad-4769-8c92-a6c4dae69d19",
    "_uuid": "8f2839f25d086af736a60e9eeb907d3b93b6e0e5",
    "execution": {
     "iopub.execute_input": "2024-07-25T05:56:46.997126Z",
     "iopub.status.busy": "2024-07-25T05:56:46.996705Z",
     "iopub.status.idle": "2024-07-25T05:56:47.957734Z",
     "shell.execute_reply": "2024-07-25T05:56:47.956408Z"
    },
    "papermill": {
     "duration": 0.969329,
     "end_time": "2024-07-25T05:56:47.960448",
     "exception": false,
     "start_time": "2024-07-25T05:56:46.991119",
     "status": "completed"
    },
    "tags": []
   },
   "outputs": [],
   "source": [
    "# This Python 3 environment comes with many helpful analytics libraries installed\n",
    "# It is defined by the kaggle/python Docker image: https://github.com/kaggle/docker-python\n",
    "# For example, here's several helpful packages to load\n",
    "\n",
    "import numpy as np # linear algebra\n",
    "import pandas as pd # data processing, CSV file I/O (e.g. pd.read_csv)\n",
    "\n",
    "# Input data files are available in the read-only \"../input/\" directory\n",
    "# For example, running this (by clicking run or pressing Shift+Enter) will list all files under the input directory\n",
    "\n",
    "import os\n",
    "for dirname, _, filenames in os.walk('/kaggle/input'):\n",
    "    for filename in filenames:\n",
    "        print(os.path.join(dirname, filename))\n",
    "\n",
    "# You can write up to 20GB to the current directory (/kaggle/working/) that gets preserved as output when you create a version using \"Save & Run All\" \n",
    "# You can also write temporary files to /kaggle/temp/, but they won't be saved outside of the current session"
   ]
  },
  {
   "cell_type": "code",
   "execution_count": 2,
   "id": "895acf27",
   "metadata": {
    "execution": {
     "iopub.execute_input": "2024-07-25T05:56:47.969121Z",
     "iopub.status.busy": "2024-07-25T05:56:47.968624Z",
     "iopub.status.idle": "2024-07-25T05:56:47.974638Z",
     "shell.execute_reply": "2024-07-25T05:56:47.973547Z"
    },
    "papermill": {
     "duration": 0.012855,
     "end_time": "2024-07-25T05:56:47.976952",
     "exception": false,
     "start_time": "2024-07-25T05:56:47.964097",
     "status": "completed"
    },
    "tags": []
   },
   "outputs": [
    {
     "name": "stdout",
     "output_type": "stream",
     "text": [
      "[1, 4, 9, 16, 25]\n"
     ]
    }
   ],
   "source": [
    "l2=[i**2 for i in range(1,6)]\n",
    "print(l2)"
   ]
  },
  {
   "cell_type": "code",
   "execution_count": 3,
   "id": "299c4ef0",
   "metadata": {
    "execution": {
     "iopub.execute_input": "2024-07-25T05:56:47.985488Z",
     "iopub.status.busy": "2024-07-25T05:56:47.984982Z",
     "iopub.status.idle": "2024-07-25T05:56:47.993881Z",
     "shell.execute_reply": "2024-07-25T05:56:47.992548Z"
    },
    "papermill": {
     "duration": 0.01591,
     "end_time": "2024-07-25T05:56:47.996287",
     "exception": false,
     "start_time": "2024-07-25T05:56:47.980377",
     "status": "completed"
    },
    "tags": []
   },
   "outputs": [
    {
     "data": {
      "text/plain": [
       "[2, 4, 6, 8, 10]"
      ]
     },
     "execution_count": 3,
     "metadata": {},
     "output_type": "execute_result"
    }
   ],
   "source": [
    "l1=[i for i in range (1,11) if i%2==0]\n",
    "l1"
   ]
  },
  {
   "cell_type": "code",
   "execution_count": 4,
   "id": "040932d2",
   "metadata": {
    "execution": {
     "iopub.execute_input": "2024-07-25T05:56:48.005103Z",
     "iopub.status.busy": "2024-07-25T05:56:48.004710Z",
     "iopub.status.idle": "2024-07-25T05:56:48.012255Z",
     "shell.execute_reply": "2024-07-25T05:56:48.011057Z"
    },
    "papermill": {
     "duration": 0.014841,
     "end_time": "2024-07-25T05:56:48.014740",
     "exception": false,
     "start_time": "2024-07-25T05:56:47.999899",
     "status": "completed"
    },
    "tags": []
   },
   "outputs": [
    {
     "data": {
      "text/plain": [
       "{4, 16, 36, 64}"
      ]
     },
     "execution_count": 4,
     "metadata": {},
     "output_type": "execute_result"
    }
   ],
   "source": [
    "s1={i**2 for i in range(1,10) if i%2==0}\n",
    "s1"
   ]
  },
  {
   "cell_type": "code",
   "execution_count": 5,
   "id": "10b01164",
   "metadata": {
    "execution": {
     "iopub.execute_input": "2024-07-25T05:56:48.024363Z",
     "iopub.status.busy": "2024-07-25T05:56:48.023326Z",
     "iopub.status.idle": "2024-07-25T05:56:48.028954Z",
     "shell.execute_reply": "2024-07-25T05:56:48.027684Z"
    },
    "papermill": {
     "duration": 0.01303,
     "end_time": "2024-07-25T05:56:48.031426",
     "exception": false,
     "start_time": "2024-07-25T05:56:48.018396",
     "status": "completed"
    },
    "tags": []
   },
   "outputs": [],
   "source": [
    "d1={\n",
    "    1:1,\n",
    "    2:4,\n",
    "    3:9,\n",
    "    4:16,\n",
    "}"
   ]
  },
  {
   "cell_type": "code",
   "execution_count": 6,
   "id": "cc7f8846",
   "metadata": {
    "execution": {
     "iopub.execute_input": "2024-07-25T05:56:48.040494Z",
     "iopub.status.busy": "2024-07-25T05:56:48.040033Z",
     "iopub.status.idle": "2024-07-25T05:56:48.047751Z",
     "shell.execute_reply": "2024-07-25T05:56:48.046554Z"
    },
    "papermill": {
     "duration": 0.014989,
     "end_time": "2024-07-25T05:56:48.050105",
     "exception": false,
     "start_time": "2024-07-25T05:56:48.035116",
     "status": "completed"
    },
    "tags": []
   },
   "outputs": [
    {
     "data": {
      "text/plain": [
       "{1: 1, 2: 4, 3: 9, 4: 16, 5: 25}"
      ]
     },
     "execution_count": 6,
     "metadata": {},
     "output_type": "execute_result"
    }
   ],
   "source": [
    "d2={}\n",
    "for i in range(1,6):\n",
    "    d2[i]=i**2\n",
    "d2"
   ]
  },
  {
   "cell_type": "code",
   "execution_count": 7,
   "id": "8702a675",
   "metadata": {
    "execution": {
     "iopub.execute_input": "2024-07-25T05:56:48.059381Z",
     "iopub.status.busy": "2024-07-25T05:56:48.058994Z",
     "iopub.status.idle": "2024-07-25T05:56:48.066365Z",
     "shell.execute_reply": "2024-07-25T05:56:48.065256Z"
    },
    "papermill": {
     "duration": 0.014974,
     "end_time": "2024-07-25T05:56:48.068887",
     "exception": false,
     "start_time": "2024-07-25T05:56:48.053913",
     "status": "completed"
    },
    "tags": []
   },
   "outputs": [
    {
     "data": {
      "text/plain": [
       "{1: 1, 2: 4, 3: 9, 4: 16, 5: 25}"
      ]
     },
     "execution_count": 7,
     "metadata": {},
     "output_type": "execute_result"
    }
   ],
   "source": [
    "d3={i:i**2 for i in range(1,6)}\n",
    "d3"
   ]
  },
  {
   "cell_type": "code",
   "execution_count": 8,
   "id": "1fb97684",
   "metadata": {
    "execution": {
     "iopub.execute_input": "2024-07-25T05:56:48.078339Z",
     "iopub.status.busy": "2024-07-25T05:56:48.077963Z",
     "iopub.status.idle": "2024-07-25T05:56:48.082984Z",
     "shell.execute_reply": "2024-07-25T05:56:48.081875Z"
    },
    "papermill": {
     "duration": 0.012711,
     "end_time": "2024-07-25T05:56:48.085526",
     "exception": false,
     "start_time": "2024-07-25T05:56:48.072815",
     "status": "completed"
    },
    "tags": []
   },
   "outputs": [],
   "source": [
    "d4={\"aman\":20,\n",
    "   \"uday\":25,\n",
    "    \"akansha\":30\n",
    "   }"
   ]
  },
  {
   "cell_type": "code",
   "execution_count": 9,
   "id": "c0e0826b",
   "metadata": {
    "execution": {
     "iopub.execute_input": "2024-07-25T05:56:48.095221Z",
     "iopub.status.busy": "2024-07-25T05:56:48.094836Z",
     "iopub.status.idle": "2024-07-25T05:56:48.102856Z",
     "shell.execute_reply": "2024-07-25T05:56:48.101708Z"
    },
    "papermill": {
     "duration": 0.015667,
     "end_time": "2024-07-25T05:56:48.105293",
     "exception": false,
     "start_time": "2024-07-25T05:56:48.089626",
     "status": "completed"
    },
    "tags": []
   },
   "outputs": [
    {
     "data": {
      "text/plain": [
       "{'aman': 'no', 'uday': 'yes', 'akansha': 'yes'}"
      ]
     },
     "execution_count": 9,
     "metadata": {},
     "output_type": "execute_result"
    }
   ],
   "source": [
    "d5={}\n",
    "for i in d4:\n",
    "    if d4[i]>22:\n",
    "        d5[i]=\"yes\"\n",
    "    else:\n",
    "        d5[i]=\"no\"\n",
    "d5"
   ]
  },
  {
   "cell_type": "code",
   "execution_count": 10,
   "id": "b0b8c10e",
   "metadata": {
    "execution": {
     "iopub.execute_input": "2024-07-25T05:56:48.115161Z",
     "iopub.status.busy": "2024-07-25T05:56:48.114772Z",
     "iopub.status.idle": "2024-07-25T05:56:48.122369Z",
     "shell.execute_reply": "2024-07-25T05:56:48.121132Z"
    },
    "papermill": {
     "duration": 0.015583,
     "end_time": "2024-07-25T05:56:48.124980",
     "exception": false,
     "start_time": "2024-07-25T05:56:48.109397",
     "status": "completed"
    },
    "tags": []
   },
   "outputs": [
    {
     "data": {
      "text/plain": [
       "{'aman': 'no', 'uday': 'yes', 'akansha': 'yes'}"
      ]
     },
     "execution_count": 10,
     "metadata": {},
     "output_type": "execute_result"
    }
   ],
   "source": [
    "d6={key:\"yes\" if value>22 else \"no\" for key, value in d4.items()}\n",
    "d6"
   ]
  }
 ],
 "metadata": {
  "kaggle": {
   "accelerator": "none",
   "dataSources": [],
   "dockerImageVersionId": 30746,
   "isGpuEnabled": false,
   "isInternetEnabled": true,
   "language": "python",
   "sourceType": "notebook"
  },
  "kernelspec": {
   "display_name": "Python 3",
   "language": "python",
   "name": "python3"
  },
  "language_info": {
   "codemirror_mode": {
    "name": "ipython",
    "version": 3
   },
   "file_extension": ".py",
   "mimetype": "text/x-python",
   "name": "python",
   "nbconvert_exporter": "python",
   "pygments_lexer": "ipython3",
   "version": "3.10.13"
  },
  "papermill": {
   "default_parameters": {},
   "duration": 4.990547,
   "end_time": "2024-07-25T05:56:48.650906",
   "environment_variables": {},
   "exception": null,
   "input_path": "__notebook__.ipynb",
   "output_path": "__notebook__.ipynb",
   "parameters": {},
   "start_time": "2024-07-25T05:56:43.660359",
   "version": "2.5.0"
  }
 },
 "nbformat": 4,
 "nbformat_minor": 5
}
